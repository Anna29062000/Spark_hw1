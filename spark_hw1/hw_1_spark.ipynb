{
  "nbformat": 4,
  "nbformat_minor": 0,
  "metadata": {
    "colab": {
      "provenance": []
    },
    "kernelspec": {
      "name": "python3",
      "display_name": "Python 3"
    },
    "language_info": {
      "name": "python"
    }
  },
  "cells": [
    {
      "cell_type": "code",
      "execution_count": 1,
      "metadata": {
        "colab": {
          "base_uri": "https://localhost:8080/"
        },
        "id": "XyRhJqMNuwn6",
        "outputId": "f543f7e2-0fda-49f6-d85d-2558d58587f7"
      },
      "outputs": [
        {
          "output_type": "stream",
          "name": "stdout",
          "text": [
            "Collecting pyspark\n",
            "  Downloading pyspark-3.5.1.tar.gz (317.0 MB)\n",
            "\u001b[2K     \u001b[90m━━━━━━━━━━━━━━━━━━━━━━━━━━━━━━━━━━━━━━━━\u001b[0m \u001b[32m317.0/317.0 MB\u001b[0m \u001b[31m2.7 MB/s\u001b[0m eta \u001b[36m0:00:00\u001b[0m\n",
            "\u001b[?25h  Preparing metadata (setup.py) ... \u001b[?25l\u001b[?25hdone\n",
            "Requirement already satisfied: py4j==0.10.9.7 in /usr/local/lib/python3.10/dist-packages (from pyspark) (0.10.9.7)\n",
            "Building wheels for collected packages: pyspark\n",
            "  Building wheel for pyspark (setup.py) ... \u001b[?25l\u001b[?25hdone\n",
            "  Created wheel for pyspark: filename=pyspark-3.5.1-py2.py3-none-any.whl size=317488491 sha256=de635ac974611f202c75de7237f0249da91d1cb5f6a9e3c46d35cd0810b296f9\n",
            "  Stored in directory: /root/.cache/pip/wheels/80/1d/60/2c256ed38dddce2fdd93be545214a63e02fbd8d74fb0b7f3a6\n",
            "Successfully built pyspark\n",
            "Installing collected packages: pyspark\n",
            "Successfully installed pyspark-3.5.1\n"
          ]
        }
      ],
      "source": [
        "!pip install pyspark\n",
        "#!pip install pyspark >> None"
      ]
    },
    {
      "cell_type": "code",
      "source": [
        "import pyspark\n",
        "from pyspark import SparkContext\n",
        "from pyspark.sql import SparkSession"
      ],
      "metadata": {
        "id": "YBD-PUUjvHON"
      },
      "execution_count": 2,
      "outputs": []
    },
    {
      "cell_type": "code",
      "source": [
        "sc = SparkContext(\"local\", \"LongestSequenceApp\")\n",
        "\n",
        "data = [1, 3, 3, 4, 5, 7, 8, 9, 10, 12, 13, 14, 15, 17, 14, 18, 19, 20]\n",
        "rdd = sc.parallelize(data)\n",
        "\n",
        "def longest_sequence(iterator):\n",
        "    longest_seq = []\n",
        "    current_seq = []\n",
        "    prev_num = None\n",
        "    for num in iterator:\n",
        "        if prev_num is None or num == prev_num + 1:\n",
        "            current_seq.append(num)\n",
        "        else:\n",
        "            if len(current_seq) > len(longest_seq):\n",
        "                longest_seq = current_seq\n",
        "            current_seq = [num]\n",
        "        prev_num = num\n",
        "    if len(current_seq) > len(longest_seq):\n",
        "        longest_seq = current_seq\n",
        "    return [longest_seq]\n",
        "\n",
        "result = rdd.mapPartitions(longest_sequence).reduce(lambda x, y: x if len(x) > len(y) else y)\n",
        "\n",
        "print(\"Самая длинная последовательность:\", result)"
      ],
      "metadata": {
        "colab": {
          "base_uri": "https://localhost:8080/"
        },
        "id": "zNFlgpqKux_6",
        "outputId": "23954eda-c182-4ae7-87b6-0c1022eb4779"
      },
      "execution_count": 3,
      "outputs": [
        {
          "output_type": "stream",
          "name": "stdout",
          "text": [
            "Самая длинная последовательность: [7, 8, 9, 10]\n"
          ]
        }
      ]
    },
    {
      "cell_type": "code",
      "source": [
        "sc.stop()"
      ],
      "metadata": {
        "id": "drMAj5lWvAYl"
      },
      "execution_count": 4,
      "outputs": []
    }
  ]
}